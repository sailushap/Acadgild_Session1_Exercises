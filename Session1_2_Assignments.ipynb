{
 "cells": [
  {
   "cell_type": "markdown",
   "metadata": {},
   "source": [
    "# Session1"
   ]
  },
  {
   "cell_type": "code",
   "execution_count": 35,
   "metadata": {},
   "outputs": [
    {
     "name": "stdout",
     "output_type": "stream",
     "text": [
      "Twinkle, twinkle, little star \n",
      " How I wonder what you are!\n",
      "   Up above the world so high,\n",
      "   Like a diamond in the sky.\n",
      "Twinkle, twinkle, little star, \n",
      " How I wonder what you are\n"
     ]
    }
   ],
   "source": [
    "# 1.Python program to print the following string in a specific format\n",
    "# Sample String : \"Twinkle, twinkle, little star, How I wonder what you are! Up above the world so high, Like a diamond in the sky. Twinkle, twinkle, little star, How I wonder what you are\" \n",
    "\n",
    "print(\"\"\"Twinkle, twinkle, little star \n",
    " How I wonder what you are!\n",
    "   Up above the world so high,\n",
    "   Like a diamond in the sky.\n",
    "Twinkle, twinkle, little star, \n",
    " How I wonder what you are\"\"\")"
   ]
  },
  {
   "cell_type": "code",
   "execution_count": 50,
   "metadata": {},
   "outputs": [
    {
     "name": "stdout",
     "output_type": "stream",
     "text": [
      "enter radius3\n",
      "area: 9.42\n"
     ]
    }
   ],
   "source": [
    "# 2. Python program which accepts the radius of a circle from the user and compute the area.\n",
    "n = int(input(\"enter radius\"))\n",
    "area = 3.14 * n\n",
    "print(\"area:\",  area)"
   ]
  },
  {
   "cell_type": "code",
   "execution_count": 67,
   "metadata": {},
   "outputs": [
    {
     "name": "stdout",
     "output_type": "stream",
     "text": [
      "enter number35.5\n",
      "37.0\n"
     ]
    }
   ],
   "source": [
    "# 3. Python program to get the difference between a given number and 17, if the number is greater than 17 return double the absolute difference.\n",
    "n = int(input(\"enter number\"))\n",
    "if (n-17) > 17 :\n",
    "    print(2*(n-17))"
   ]
  },
  {
   "cell_type": "code",
   "execution_count": 2,
   "metadata": {},
   "outputs": [
    {
     "name": "stdout",
     "output_type": "stream",
     "text": [
      "Enter Number:164\n",
      "164 is an Even number\n"
     ]
    }
   ],
   "source": [
    "# 4.Python program to find whether a given number (accept from the user) is even or odd, print out an appropriate message to the user.\n",
    "\n",
    "Number = int(input(\"Enter Number:\"))\n",
    "if Number%2 == 0:\n",
    "    print(Number, \"is an Even number\")\n",
    "else:\n",
    "    print(Number, \"is an Odd number\")"
   ]
  },
  {
   "cell_type": "code",
   "execution_count": 44,
   "metadata": {},
   "outputs": [
    {
     "name": "stdout",
     "output_type": "stream",
     "text": [
      "3\n"
     ]
    }
   ],
   "source": [
    "# 5.program to count the number 4 in a given list*\n",
    "number_series = [33,4,56,4,23,45,4]\n",
    "count = 0\n",
    "for i in number_series:\n",
    "    if i == 4:\n",
    "        count += 1\n",
    "print(count)"
   ]
  },
  {
   "cell_type": "code",
   "execution_count": 43,
   "metadata": {},
   "outputs": [
    {
     "name": "stdout",
     "output_type": "stream",
     "text": [
      "Count of Even Numbers: 5\n",
      "COunt of Odd Numbers: 4\n"
     ]
    }
   ],
   "source": [
    "#6.Python program to count the number of even and odd numbers from a series of numbers\n",
    "number_series = [36,32,89,74,65,98,12,5,43]\n",
    "even = 0\n",
    "odd = 0\n",
    "for i in number_series:\n",
    "    if i%2 == 0:\n",
    "        even += 1\n",
    "    else:\n",
    "        odd += 1\n",
    "print(\"Count of Even Numbers:\", even)\n",
    "print(\"COunt of Odd Numbers:\", odd)\n",
    "\n"
   ]
  },
  {
   "cell_type": "markdown",
   "metadata": {},
   "source": [
    "# Session 2"
   ]
  },
  {
   "cell_type": "code",
   "execution_count": 9,
   "metadata": {},
   "outputs": [
    {
     "name": "stdout",
     "output_type": "stream",
     "text": [
      "Enter a string:this is test string\n",
      "Number of Characters(inlcuding Spaces): 19\n",
      "Number of words: 4\n"
     ]
    }
   ],
   "source": [
    "# Calculate the Number of Words and the Number of Characters Present in a String\n",
    "String = input(\"Enter a string:\")\n",
    "print(\"Number of Characters(inlcuding Spaces):\", len(String))\n",
    "print(\"Number of words:\",len(String.split(\" \")))\n",
    "      "
   ]
  },
  {
   "cell_type": "code",
   "execution_count": 13,
   "metadata": {},
   "outputs": [
    {
     "name": "stdout",
     "output_type": "stream",
     "text": [
      "Enter a string:TeSt StRiNg\n",
      "5\n"
     ]
    }
   ],
   "source": [
    "#Count Number of Lowercase Characters in a String\n",
    "String = input(\"Enter a string:\")\n",
    "i = 1\n",
    "count = 0\n",
    "for i in String:\n",
    "  if i.islower():\n",
    "        count = count + 1\n",
    "\n",
    "print(count)"
   ]
  },
  {
   "cell_type": "code",
   "execution_count": 15,
   "metadata": {},
   "outputs": [
    {
     "name": "stdout",
     "output_type": "stream",
     "text": [
      "Enter a string:123 test string 234\n",
      "10\n",
      "6\n"
     ]
    }
   ],
   "source": [
    "# Calculate the Number of Digits and Letters in a String\n",
    "String = input(\"Enter a string:\")\n",
    "i = 1\n",
    "char_count = 0\n",
    "num_count = 0\n",
    "for i in String:\n",
    "  if i.isalpha():\n",
    "        char_count = char_count + 1\n",
    "  elif i.isdigit():\n",
    "       num_count = num_count + 1\n",
    "print(char_count)\n",
    "print(num_count)"
   ]
  },
  {
   "cell_type": "code",
   "execution_count": 20,
   "metadata": {},
   "outputs": [
    {
     "name": "stdout",
     "output_type": "stream",
     "text": [
      "Enter a string:test string\n",
      "New String: teng\n"
     ]
    }
   ],
   "source": [
    "#  Form a New String Made of the First 2 and Last 2 characters From a Given String\n",
    "String = input(\"Enter a string:\")\n",
    "print(\"New String:\", String[0:2] + String[len(String)-2:])"
   ]
  },
  {
   "cell_type": "code",
   "execution_count": 22,
   "metadata": {},
   "outputs": [
    {
     "name": "stdout",
     "output_type": "stream",
     "text": [
      "[34, 22, 42, 88, 92]\n",
      "[45, 67, 109, 33, 87]\n"
     ]
    }
   ],
   "source": [
    "# Put Even and Odd elements in a List into Two Different Lists\n",
    "list1 = [34, 22,45,67,42,109,88,33,87,92]\n",
    "print([i for i in list1 if i%2 == 0])\n",
    "print([i for i in list1 if i%2 == 1])"
   ]
  },
  {
   "cell_type": "code",
   "execution_count": 31,
   "metadata": {},
   "outputs": [
    {
     "name": "stdout",
     "output_type": "stream",
     "text": [
      "[3, 8, 19, 33, 55, 87, 103]\n"
     ]
    }
   ],
   "source": [
    "# Find the Cumulative Sum of a List where the ith Element is the Sum of the i Elements From The Original List\n",
    "\n",
    "user_list = [3,5,11,14,22,32,16]\n",
    "cum_list = []\n",
    "sum = 0\n",
    "for i in user_list:\n",
    "    sum = sum + i\n",
    "    cum_list.append(sum)\n",
    "    \n",
    "print(cum_list)"
   ]
  },
  {
   "cell_type": "code",
   "execution_count": 32,
   "metadata": {},
   "outputs": [
    {
     "name": "stdout",
     "output_type": "stream",
     "text": [
      "[19, 17, 20, 19, 5, 4, 13, 19, 4, 20, 11, 12, 10, 14, 18, 13, 8, 14, 3, 11]\n"
     ]
    }
   ],
   "source": [
    "# Generate Random Numbers from 1 to 20 and Append Them to the List\n",
    "import random\n",
    "random_list = []\n",
    "for i in range(20):\n",
    "    random_list.append(random.randint(1,20))\n",
    "print(random_list)"
   ]
  },
  {
   "cell_type": "code",
   "execution_count": 37,
   "metadata": {},
   "outputs": [
    {
     "name": "stdout",
     "output_type": "stream",
     "text": [
      "enter string:this is a test string to test longer word\n",
      "string\n"
     ]
    }
   ],
   "source": [
    "# Read a List of Words and Return the Length of the Longest One\n",
    "String = input(\"enter string:\")\n",
    "string_list = String.split(\" \")\n",
    "long_length = 0\n",
    "for i in string_list:\n",
    "    if len(i) > long_length:\n",
    "        long_string = i\n",
    "        long_length = len(i)\n",
    "print(long_string)"
   ]
  },
  {
   "cell_type": "code",
   "execution_count": null,
   "metadata": {},
   "outputs": [],
   "source": []
  }
 ],
 "metadata": {
  "kernelspec": {
   "display_name": "Python 3",
   "language": "python",
   "name": "python3"
  },
  "language_info": {
   "codemirror_mode": {
    "name": "ipython",
    "version": 3
   },
   "file_extension": ".py",
   "mimetype": "text/x-python",
   "name": "python",
   "nbconvert_exporter": "python",
   "pygments_lexer": "ipython3",
   "version": "3.7.3"
  }
 },
 "nbformat": 4,
 "nbformat_minor": 2
}
